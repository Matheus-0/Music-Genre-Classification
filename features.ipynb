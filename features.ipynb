{
 "cells": [
  {
   "attachments": {},
   "cell_type": "markdown",
   "id": "578e24c3",
   "metadata": {},
   "source": [
    "## Instituto Federal da Paraíba\n",
    "## Disciplina: Mineração de Dados\n",
    "## Professor: Paulo Ribeiro\n",
    "## Alunos: Filipe Salomão, Hércules de Sousa e Matheus Alves\n",
    "##\n",
    "## Projeto: Classificação de Gêneros Musicais"
   ]
  },
  {
   "attachments": {},
   "cell_type": "markdown",
   "id": "8655bc06",
   "metadata": {},
   "source": [
    "Aqui importamos a biblioteca Librosa. Essa biblioteca é uma ferramenta de processamento de áudio em Python. Ela fornece uma série de funções e utilitários para análise de áudio e extração de características de arquivos de áudio. É uma biblioteca amplamente utilizada em tarefas de processamento de áudio, como análise de música, reconhecimento de fala e aplicações de aprendizado de máquina relacionadas ao áudio."
   ]
  },
  {
   "cell_type": "code",
   "execution_count": 1,
   "id": "8e500cac",
   "metadata": {},
   "outputs": [],
   "source": [
    "import itertools\n",
    "import librosa\n",
    "import matplotlib.pyplot as plt\n",
    "import numpy as np\n",
    "import os\n",
    "import pandas as pd\n",
    "from scipy.stats import kurtosis\n",
    "from scipy.stats import skew"
   ]
  },
  {
   "attachments": {},
   "cell_type": "markdown",
   "id": "837ef9a2",
   "metadata": {},
   "source": [
    "Este código define uma função chamada _get_features_ que recebe um sinal de áudio _y_, uma taxa de amostragem _sr_ e alguns parâmetros opcionais relacionados à análise de áudio, como o tamanho da janela de transformação de Fourier (_n_fft_) e o tamanho do salto entre as janelas (_hop_length_).\n",
    "\n",
    "A função tem como objetivo extrair várias características do sinal de áudio usando a biblioteca Librosa e retornar essas características como um dicionário.\n",
    "\n",
    "Várias funções do Librosa são chamadas para extrair características específicas do sinal de áudio, como centro espectral, roll-off espectral, taxa de cruzamento por zero, RMS, força de início, contraste espectral, largura de banda espectral e planicidade espectral. O resultado de cada função é uma matriz multidimensional que é convertida em um vetor unidimensional usando o método _.ravel_.\n",
    "\n",
    "Também as características MFCC (Mel-frequency Cepstral Coefficients) são calculadas usando a função _librosa.feature.mfcc_.\n",
    "\n",
    "Uma função interna chamada _get_moments_ é definida. Essa função calcula várias estatísticas descritivas para cada descritor, como valor máximo, valor mínimo, média, desvio padrão, curtose e assimetria."
   ]
  },
  {
   "cell_type": "code",
   "execution_count": 2,
   "id": "60c83c83",
   "metadata": {},
   "outputs": [],
   "source": [
    "def get_features(y, sr, n_fft=1024, hop_length=512):\n",
    "    features = {}\n",
    "\n",
    "    features['spectral_centroid'] = librosa.feature.spectral_centroid(y=y, sr=sr, n_fft=n_fft, hop_length=hop_length).ravel()\n",
    "    features['spectral_rolloff'] = librosa.feature.spectral_rolloff(y=y, sr=sr, n_fft=n_fft, hop_length=hop_length).ravel()\n",
    "    features['zero_crossing_rate'] = librosa.feature.zero_crossing_rate(y, frame_length=n_fft, hop_length=hop_length).ravel()\n",
    "    features['rms'] = librosa.feature.rms(y=y, frame_length=n_fft, hop_length=hop_length).ravel()\n",
    "    features['onset_strength'] = librosa.onset.onset_strength(y=y, sr=sr).ravel()\n",
    "    features['spectral_contrast'] = librosa.feature.spectral_contrast(y=y, sr=sr).ravel()\n",
    "    features['spectral_bandwidth'] = librosa.feature.spectral_bandwidth(y=y, sr=sr, n_fft=n_fft, hop_length=hop_length).ravel()\n",
    "    features['spectral_flatness'] = librosa.feature.spectral_flatness(y=y, n_fft=n_fft, hop_length=hop_length).ravel()\n",
    "\n",
    "    mfcc = librosa.feature.mfcc(y=y, n_fft = n_fft, hop_length = hop_length, n_mfcc=13)\n",
    "\n",
    "    for index, v_mfcc in enumerate(mfcc):\n",
    "        features['mfcc_{}'.format(index)] = v_mfcc.ravel()\n",
    "\n",
    "    def get_moments(descriptors):\n",
    "        result = {}\n",
    "\n",
    "        for k, v in descriptors.items():\n",
    "            result['{}_max'.format(k)] = np.max(v)\n",
    "            result['{}_min'.format(k)] = np.min(v)\n",
    "            result['{}_mean'.format(k)] = np.mean(v)\n",
    "            result['{}_std'.format(k)] = np.std(v)\n",
    "            result['{}_kurtosis'.format(k)] = kurtosis(v)\n",
    "            result['{}_skew'.format(k)] = skew(v)\n",
    "\n",
    "        return result\n",
    "\n",
    "    additional_features = get_moments(features)\n",
    "    additional_features['tempo'] = librosa.feature.tempo(y=y, sr=sr)[0]\n",
    "\n",
    "    return additional_features"
   ]
  },
  {
   "attachments": {},
   "cell_type": "markdown",
   "id": "19340e05",
   "metadata": {},
   "source": [
    "Esta função recebe dois argumentos: _genres_directory_, que é o diretório principal contendo subdiretórios para diferentes gêneros musicais, e _genres_, que é uma lista dos gêneros a serem processados.\n",
    "\n",
    "A função tem como objetivo percorrer os arquivos de áudio em cada subdiretório de gênero e extrair características desses arquivos usando a função _get_features_ definida acima."
   ]
  },
  {
   "cell_type": "code",
   "execution_count": 3,
   "id": "30ad9368",
   "metadata": {},
   "outputs": [],
   "source": [
    "def process_genres_directory_files(genres_directory, genres):\n",
    "    all_features = []\n",
    "\n",
    "    for genre in genres:\n",
    "        genre_directory = f'{genres_directory}/{genre}/wav_files'\n",
    "\n",
    "        for file in os.listdir(genre_directory):\n",
    "            file_path = f\"{genre_directory}/{file}\"\n",
    "\n",
    "            y, sr = librosa.load(file_path)\n",
    "\n",
    "            features = get_features(y, sr)\n",
    "\n",
    "            features['label'] = genre\n",
    "\n",
    "            all_features.append(features)\n",
    "\n",
    "    return all_features"
   ]
  },
  {
   "attachments": {},
   "cell_type": "markdown",
   "id": "43587c36",
   "metadata": {},
   "source": [
    "Diretório de previews:"
   ]
  },
  {
   "cell_type": "code",
   "execution_count": 4,
   "id": "b9424f63",
   "metadata": {},
   "outputs": [],
   "source": [
    "genres_directory = './previews'"
   ]
  },
  {
   "attachments": {},
   "cell_type": "markdown",
   "id": "219241f5",
   "metadata": {},
   "source": [
    "Lista de gêneros contidos no diretório:"
   ]
  },
  {
   "cell_type": "code",
   "execution_count": 5,
   "id": "f024312b",
   "metadata": {},
   "outputs": [],
   "source": [
    "genres = os.listdir(genres_directory)"
   ]
  },
  {
   "cell_type": "code",
   "execution_count": 6,
   "id": "9b0a9abb",
   "metadata": {},
   "outputs": [
    {
     "data": {
      "text/plain": [
       "['forró', 'funk', 'jazz', 'rap', 'rock', 'samba', 'sertanejo']"
      ]
     },
     "execution_count": 6,
     "metadata": {},
     "output_type": "execute_result"
    }
   ],
   "source": [
    "genres"
   ]
  },
  {
   "attachments": {},
   "cell_type": "markdown",
   "id": "06cdb8dd",
   "metadata": {},
   "source": [
    "Processando todos os arquivos de áudio contidos nos subdiretórios:"
   ]
  },
  {
   "cell_type": "code",
   "execution_count": 7,
   "id": "f8a52c32",
   "metadata": {
    "scrolled": true
   },
   "outputs": [
    {
     "name": "stdout",
     "output_type": "stream",
     "text": [
      "CPU times: total: 10min 49s\n",
      "Wall time: 13min 38s\n"
     ]
    }
   ],
   "source": [
    "%%time\n",
    "\n",
    "all_features = process_genres_directory_files(genres_directory, genres)"
   ]
  },
  {
   "attachments": {},
   "cell_type": "markdown",
   "id": "d8d869f0",
   "metadata": {},
   "source": [
    "Transformando as características em um DataFrame:"
   ]
  },
  {
   "cell_type": "code",
   "execution_count": 8,
   "id": "bee42b79",
   "metadata": {},
   "outputs": [],
   "source": [
    "df_features = pd.DataFrame(all_features)"
   ]
  },
  {
   "cell_type": "code",
   "execution_count": 9,
   "id": "21208049",
   "metadata": {},
   "outputs": [
    {
     "data": {
      "text/plain": [
       "(840, 128)"
      ]
     },
     "execution_count": 9,
     "metadata": {},
     "output_type": "execute_result"
    }
   ],
   "source": [
    "df_features.shape"
   ]
  },
  {
   "cell_type": "code",
   "execution_count": 10,
   "id": "d0370367",
   "metadata": {},
   "outputs": [
    {
     "data": {
      "text/html": [
       "<div>\n",
       "<style scoped>\n",
       "    .dataframe tbody tr th:only-of-type {\n",
       "        vertical-align: middle;\n",
       "    }\n",
       "\n",
       "    .dataframe tbody tr th {\n",
       "        vertical-align: top;\n",
       "    }\n",
       "\n",
       "    .dataframe thead th {\n",
       "        text-align: right;\n",
       "    }\n",
       "</style>\n",
       "<table border=\"1\" class=\"dataframe\">\n",
       "  <thead>\n",
       "    <tr style=\"text-align: right;\">\n",
       "      <th></th>\n",
       "      <th>spectral_centroid_max</th>\n",
       "      <th>spectral_centroid_min</th>\n",
       "      <th>spectral_centroid_mean</th>\n",
       "      <th>spectral_centroid_std</th>\n",
       "      <th>spectral_centroid_kurtosis</th>\n",
       "      <th>spectral_centroid_skew</th>\n",
       "      <th>spectral_rolloff_max</th>\n",
       "      <th>spectral_rolloff_min</th>\n",
       "      <th>spectral_rolloff_mean</th>\n",
       "      <th>spectral_rolloff_std</th>\n",
       "      <th>...</th>\n",
       "      <th>mfcc_11_kurtosis</th>\n",
       "      <th>mfcc_11_skew</th>\n",
       "      <th>mfcc_12_max</th>\n",
       "      <th>mfcc_12_min</th>\n",
       "      <th>mfcc_12_mean</th>\n",
       "      <th>mfcc_12_std</th>\n",
       "      <th>mfcc_12_kurtosis</th>\n",
       "      <th>mfcc_12_skew</th>\n",
       "      <th>tempo</th>\n",
       "      <th>label</th>\n",
       "    </tr>\n",
       "  </thead>\n",
       "  <tbody>\n",
       "    <tr>\n",
       "      <th>0</th>\n",
       "      <td>4737.508153</td>\n",
       "      <td>635.664676</td>\n",
       "      <td>2098.726133</td>\n",
       "      <td>556.496663</td>\n",
       "      <td>2.887029</td>\n",
       "      <td>1.283600</td>\n",
       "      <td>9130.078125</td>\n",
       "      <td>925.927734</td>\n",
       "      <td>4514.561770</td>\n",
       "      <td>1372.578815</td>\n",
       "      <td>...</td>\n",
       "      <td>-0.086715</td>\n",
       "      <td>-0.088010</td>\n",
       "      <td>32.658615</td>\n",
       "      <td>-31.948511</td>\n",
       "      <td>-5.576648</td>\n",
       "      <td>9.920987</td>\n",
       "      <td>-0.200280</td>\n",
       "      <td>0.234563</td>\n",
       "      <td>143.554688</td>\n",
       "      <td>forró</td>\n",
       "    </tr>\n",
       "    <tr>\n",
       "      <th>1</th>\n",
       "      <td>5339.076724</td>\n",
       "      <td>1019.369702</td>\n",
       "      <td>2294.895607</td>\n",
       "      <td>604.767987</td>\n",
       "      <td>1.803070</td>\n",
       "      <td>0.943630</td>\n",
       "      <td>9130.078125</td>\n",
       "      <td>1722.656250</td>\n",
       "      <td>4914.999411</td>\n",
       "      <td>1341.457851</td>\n",
       "      <td>...</td>\n",
       "      <td>0.120776</td>\n",
       "      <td>-0.207388</td>\n",
       "      <td>21.607838</td>\n",
       "      <td>-36.618702</td>\n",
       "      <td>-4.257775</td>\n",
       "      <td>9.034795</td>\n",
       "      <td>-0.080838</td>\n",
       "      <td>0.118976</td>\n",
       "      <td>143.554688</td>\n",
       "      <td>forró</td>\n",
       "    </tr>\n",
       "    <tr>\n",
       "      <th>2</th>\n",
       "      <td>6613.348219</td>\n",
       "      <td>1526.374864</td>\n",
       "      <td>2857.957595</td>\n",
       "      <td>685.797071</td>\n",
       "      <td>3.499504</td>\n",
       "      <td>1.245568</td>\n",
       "      <td>9474.609375</td>\n",
       "      <td>2648.583984</td>\n",
       "      <td>6027.380220</td>\n",
       "      <td>1304.601244</td>\n",
       "      <td>...</td>\n",
       "      <td>-0.253195</td>\n",
       "      <td>0.186958</td>\n",
       "      <td>32.782486</td>\n",
       "      <td>-35.293335</td>\n",
       "      <td>-7.233448</td>\n",
       "      <td>11.249509</td>\n",
       "      <td>-0.106279</td>\n",
       "      <td>0.236294</td>\n",
       "      <td>151.999081</td>\n",
       "      <td>forró</td>\n",
       "    </tr>\n",
       "    <tr>\n",
       "      <th>3</th>\n",
       "      <td>6935.364306</td>\n",
       "      <td>945.116845</td>\n",
       "      <td>2439.278264</td>\n",
       "      <td>730.595169</td>\n",
       "      <td>4.671441</td>\n",
       "      <td>1.223784</td>\n",
       "      <td>9840.673828</td>\n",
       "      <td>1184.326172</td>\n",
       "      <td>5551.766429</td>\n",
       "      <td>1564.960933</td>\n",
       "      <td>...</td>\n",
       "      <td>0.052664</td>\n",
       "      <td>-0.347261</td>\n",
       "      <td>28.608442</td>\n",
       "      <td>-36.924839</td>\n",
       "      <td>-3.531663</td>\n",
       "      <td>9.956684</td>\n",
       "      <td>0.135261</td>\n",
       "      <td>-0.020543</td>\n",
       "      <td>107.666016</td>\n",
       "      <td>forró</td>\n",
       "    </tr>\n",
       "    <tr>\n",
       "      <th>4</th>\n",
       "      <td>7086.838756</td>\n",
       "      <td>928.772862</td>\n",
       "      <td>2541.888664</td>\n",
       "      <td>744.284935</td>\n",
       "      <td>2.716824</td>\n",
       "      <td>1.082830</td>\n",
       "      <td>9969.873047</td>\n",
       "      <td>1162.792969</td>\n",
       "      <td>6118.729668</td>\n",
       "      <td>1422.390345</td>\n",
       "      <td>...</td>\n",
       "      <td>-0.254407</td>\n",
       "      <td>-0.014688</td>\n",
       "      <td>29.134048</td>\n",
       "      <td>-33.681553</td>\n",
       "      <td>-3.894992</td>\n",
       "      <td>9.132825</td>\n",
       "      <td>0.035545</td>\n",
       "      <td>0.014757</td>\n",
       "      <td>135.999178</td>\n",
       "      <td>forró</td>\n",
       "    </tr>\n",
       "  </tbody>\n",
       "</table>\n",
       "<p>5 rows × 128 columns</p>\n",
       "</div>"
      ],
      "text/plain": [
       "   spectral_centroid_max  spectral_centroid_min  spectral_centroid_mean  \\\n",
       "0            4737.508153             635.664676             2098.726133   \n",
       "1            5339.076724            1019.369702             2294.895607   \n",
       "2            6613.348219            1526.374864             2857.957595   \n",
       "3            6935.364306             945.116845             2439.278264   \n",
       "4            7086.838756             928.772862             2541.888664   \n",
       "\n",
       "   spectral_centroid_std  spectral_centroid_kurtosis  spectral_centroid_skew  \\\n",
       "0             556.496663                    2.887029                1.283600   \n",
       "1             604.767987                    1.803070                0.943630   \n",
       "2             685.797071                    3.499504                1.245568   \n",
       "3             730.595169                    4.671441                1.223784   \n",
       "4             744.284935                    2.716824                1.082830   \n",
       "\n",
       "   spectral_rolloff_max  spectral_rolloff_min  spectral_rolloff_mean  \\\n",
       "0           9130.078125            925.927734            4514.561770   \n",
       "1           9130.078125           1722.656250            4914.999411   \n",
       "2           9474.609375           2648.583984            6027.380220   \n",
       "3           9840.673828           1184.326172            5551.766429   \n",
       "4           9969.873047           1162.792969            6118.729668   \n",
       "\n",
       "   spectral_rolloff_std  ...  mfcc_11_kurtosis  mfcc_11_skew  mfcc_12_max  \\\n",
       "0           1372.578815  ...         -0.086715     -0.088010    32.658615   \n",
       "1           1341.457851  ...          0.120776     -0.207388    21.607838   \n",
       "2           1304.601244  ...         -0.253195      0.186958    32.782486   \n",
       "3           1564.960933  ...          0.052664     -0.347261    28.608442   \n",
       "4           1422.390345  ...         -0.254407     -0.014688    29.134048   \n",
       "\n",
       "   mfcc_12_min  mfcc_12_mean  mfcc_12_std  mfcc_12_kurtosis  mfcc_12_skew  \\\n",
       "0   -31.948511     -5.576648     9.920987         -0.200280      0.234563   \n",
       "1   -36.618702     -4.257775     9.034795         -0.080838      0.118976   \n",
       "2   -35.293335     -7.233448    11.249509         -0.106279      0.236294   \n",
       "3   -36.924839     -3.531663     9.956684          0.135261     -0.020543   \n",
       "4   -33.681553     -3.894992     9.132825          0.035545      0.014757   \n",
       "\n",
       "        tempo  label  \n",
       "0  143.554688  forró  \n",
       "1  143.554688  forró  \n",
       "2  151.999081  forró  \n",
       "3  107.666016  forró  \n",
       "4  135.999178  forró  \n",
       "\n",
       "[5 rows x 128 columns]"
      ]
     },
     "execution_count": 10,
     "metadata": {},
     "output_type": "execute_result"
    }
   ],
   "source": [
    "df_features.head()"
   ]
  },
  {
   "attachments": {},
   "cell_type": "markdown",
   "id": "7ea1b7b9",
   "metadata": {},
   "source": [
    "## Sobre as características do sinal de áudio\n",
    "\n",
    "### Centroide espectral\n",
    "\n",
    "A centroide espectral é uma medida que descreve onde está localizada a \"média\" das frequências de um sinal de áudio. Ela pode ser usada para entender a distribuição das frequências e ajudar a identificar o estilo ou gênero musical de uma música.\n",
    "\n",
    "Ao calcular a centroide espectral de diferentes músicas de um mesmo gênero musical, você pode observar padrões consistentes. Por exemplo, em músicas de jazz, a centroide espectral pode tender a ser mais baixa, pois há mais ênfase em instrumentos de baixa frequência, como contrabaixo e piano. Em músicas de rock, a centroide espectral pode ser mais alta, pois há mais presença de guitarras elétricas e vocais com frequências mais altas.\n",
    "\n",
    "### Rolloff\n",
    "\n",
    "O rolloff espectral é definido como a frequência abaixo da qual uma certa porcentagem (geralmente 85%) da energia total do sinal de áudio está contida nas componentes de frequência mais baixas. Essa medida é útil na análise de áudio, pois pode ser usada para inferir informações sobre a \"brilho\" ou \"timbre\" do som.\n",
    "\n",
    "Por exemplo, em gêneros musicais com graves pesados, como o hip-hop, o rolloff espectral pode ser mais baixo, pois há mais energia espectral em frequências mais baixas. Em contraste, em gêneros musicais como a música clássica, que geralmente não tem muitos graves, o rolloff espectral pode ser mais alto, pois há menos energia espectral em frequências mais baixas.\n",
    "\n",
    "### Taxa de cruzamento por zero\n",
    "\n",
    "A taxa de cruzamento por zero é uma medida que indica a quantidade de vezes que o sinal atravessa o eixo horizontal (valor zero) em relação ao tempo. Ela pode ser muito útil ao indicar informações sobre \"aspereza\" ou \"textura\".\n",
    "\n",
    "Música clássica e jazz tendem a ter uma taxa de cruzamento por zero mais baixa, pois geralmente possuem notas sustentadas e menos mudanças rápidas de polaridade.\n",
    "\n",
    "Música eletrônica e rock podem ter uma taxa de cruzamento por zero mais alta, devido a batidas mais intensas e rápidas, levando a mais mudanças de polaridade em um curto espaço de tempo.\n",
    "\n",
    "Música acústica ou folk pode ter uma taxa de cruzamento por zero intermediária, pois geralmente possui instrumentos acústicos que produzem um equilíbrio entre mudanças de polaridade rápidas e sustentações de notas.\n",
    "\n",
    "### RMS\n",
    "\n",
    "O RMS (Root Mean Square) é uma medida que calcula a média quadrática das amplitudes de um sinal de áudio. Basicamente, o RMS nos dá uma ideia de quão alto ou suave um sinal de áudio é em termos de intensidade.\n",
    "\n",
    "Música clássica e música ambiente geralmente têm um valor de RMS mais baixo, pois tendem a ser mais suaves e tranquilas em termos de intensidade sonora.\n",
    "\n",
    "Gêneros musicais como rock, metal ou música eletrônica tendem a ter um valor de RMS mais alto, pois são mais intensos e apresentam uma ampla faixa dinâmica.\n",
    "\n",
    "Músicas de dança ou hip-hop, com suas batidas pulsantes e fortes, também podem ter um valor de RMS mais alto devido à sua natureza energética e impactante.\n",
    "\n",
    "### Força do ataque (onset strength)\n",
    "\n",
    "A força do ataque é uma medida que indica a intensidade ou saliência de mudanças de atividade rítmica no sinal de áudio.\n",
    "\n",
    "Gêneros musicais como música clássica e jazz costumam ter ataques mais suaves e gradualmente crescentes. A força do ataque nesses gêneros tende a ser menor e menos pronunciada em comparação com outros estilos musicais.\n",
    "\n",
    "Em gêneros como rock, música eletrônica ou hip-hop, que são conhecidos por suas batidas enérgicas e fortes, a força do ataque é geralmente mais alta. Isso ocorre porque esses estilos musicais enfatizam os momentos de início das notas e têm uma presença percussiva mais marcante.\n",
    "\n",
    "Gêneros musicais como música clássica contemporânea ou experimental podem apresentar uma variação maior na força do ataque, com eventos sonoros inesperados e mudanças dramáticas na intensidade ao longo da música.\n",
    "\n",
    "### Contraste espectral de um sinal\n",
    "\n",
    "O contraste espectral é uma medida que indica a relação entre a energia espectral em bandas de frequência adjacentes.\n",
    "\n",
    "No forró, o contraste espectral pode revelar a presença marcante de instrumentos como a sanfona e o triângulo em frequências específicas. Esses instrumentos tendem a criar um contraste espectral mais alto, destacando-se em relação a outros elementos sonoros presentes na música.\n",
    "\n",
    "No rap, a voz do rapper é um elemento central. O contraste espectral pode revelar a clareza e a proeminência da voz em relação aos demais componentes instrumentais. A voz geralmente ocupa uma faixa de frequência mais destacada, enquanto os instrumentos de fundo podem ter um contraste espectral mais baixo.\n",
    "\n",
    "### Largura de banda espectral\n",
    "\n",
    "A largura de banda espectral é uma medida que indica a extensão das frequências presentes no sinal de áudio.\n",
    "\n",
    "No samba, a largura de banda espectral pode ser mais concentrada em frequências percussivas, como o surdo e o pandeiro, que são instrumentos característicos desse estilo musical. Outros instrumentos, como o cavaquinho e o violão, podem ocupar faixas de frequência mais específicas.\n",
    "\n",
    "No sertanejo, a largura de banda espectral pode variar dependendo da abordagem musical específica. Em arranjos mais tradicionais, a largura de banda pode ser mais moderada, destacando-se as frequências vocais e dos instrumentos de corda, como o violão. Já em arranjos mais modernos, podem ser adicionados elementos eletrônicos e uma maior variação de frequências.\n",
    "\n",
    "### Nivelamento espectral\n",
    "\n",
    "O nivelamento espectral, também conhecido como equalização, é um processo que ajusta a intensidade de diferentes frequências em um sinal de áudio. Ele é usado para equilibrar o volume ou a ênfase de certas partes do espectro de frequência, tornando o som mais balanceado e agradável aos ouvidos.\n",
    "\n",
    "No funk, o nivelamento espectral pode ser usado para realçar os graves e as batidas percussivas, proporcionando um impacto mais pronunciado nas frequências baixas, onde estão concentrados os elementos rítmicos desse gênero musical. Isso ajuda a criar um som mais enérgico e dançante.\n",
    "\n",
    "No rock, o nivelamento espectral pode ser utilizado para equilibrar os elementos instrumentais, como guitarras, baixos, baterias e vocais. Por exemplo, é possível realçar as frequências das guitarras distorcidas para obter um som mais agressivo, enquanto mantém as frequências vocais claras e bem audíveis. O objetivo é criar uma mistura equilibrada e potente."
   ]
  },
  {
   "attachments": {},
   "cell_type": "markdown",
   "id": "b6bc382a",
   "metadata": {},
   "source": [
    "Guardando as características em um arquivo CSV:"
   ]
  },
  {
   "cell_type": "code",
   "execution_count": 11,
   "id": "5772281c",
   "metadata": {},
   "outputs": [],
   "source": [
    "df_features.to_csv('./all_features.csv', index=False)"
   ]
  }
 ],
 "metadata": {
  "kernelspec": {
   "display_name": "Python 3 (ipykernel)",
   "language": "python",
   "name": "python3"
  },
  "language_info": {
   "codemirror_mode": {
    "name": "ipython",
    "version": 3
   },
   "file_extension": ".py",
   "mimetype": "text/x-python",
   "name": "python",
   "nbconvert_exporter": "python",
   "pygments_lexer": "ipython3",
   "version": "3.9.11"
  }
 },
 "nbformat": 4,
 "nbformat_minor": 5
}
