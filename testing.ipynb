{
 "cells": [
  {
   "cell_type": "markdown",
   "id": "df0f20b3",
   "metadata": {},
   "source": [
    "## Instituto Federal da Paraíba\n",
    "## Disciplina: Mineração de Dados\n",
    "## Professor: Paulo Ribeiro\n",
    "## Alunos: Filipe Salomão, Hércules de Sousa e Matheus Alves\n",
    "##\n",
    "## Projeto: Classificação de Gêneros Musicais"
   ]
  },
  {
   "cell_type": "markdown",
   "id": "996881a1",
   "metadata": {},
   "source": [
    "Importanto bibliotecas necessárias:"
   ]
  },
  {
   "cell_type": "code",
   "execution_count": null,
   "id": "6badb131",
   "metadata": {},
   "outputs": [],
   "source": [
    "import librosa\n",
    "import numpy as np\n",
    "import os\n",
    "import pandas as pd\n",
    "from joblib import load\n",
    "from scipy.stats import kurtosis\n",
    "from scipy.stats import skew\n",
    "import warnings"
   ]
  },
  {
   "cell_type": "markdown",
   "id": "4007c9f9",
   "metadata": {},
   "source": [
    "Reutilizando a função **_get_features_**:"
   ]
  },
  {
   "cell_type": "code",
   "execution_count": null,
   "id": "6e72398b",
   "metadata": {},
   "outputs": [],
   "source": [
    "def get_features(y, sr, n_fft=1024, hop_length=512):\n",
    "    features = {}\n",
    "\n",
    "    features['spectral_centroid'] = librosa.feature.spectral_centroid(y=y, sr=sr, n_fft=n_fft, hop_length=hop_length).ravel()\n",
    "    features['spectral_rolloff'] = librosa.feature.spectral_rolloff(y=y, sr=sr, n_fft=n_fft, hop_length=hop_length).ravel()\n",
    "    features['zero_crossing_rate'] = librosa.feature.zero_crossing_rate(y, frame_length=n_fft, hop_length=hop_length).ravel()\n",
    "    features['rms'] = librosa.feature.rms(y=y, frame_length=n_fft, hop_length=hop_length).ravel()\n",
    "    features['onset_strength'] = librosa.onset.onset_strength(y=y, sr=sr).ravel()\n",
    "    features['spectral_contrast'] = librosa.feature.spectral_contrast(y=y, sr=sr).ravel()\n",
    "    features['spectral_bandwidth'] = librosa.feature.spectral_bandwidth(y=y, sr=sr, n_fft=n_fft, hop_length=hop_length).ravel()\n",
    "    features['spectral_flatness'] = librosa.feature.spectral_flatness(y=y, n_fft=n_fft, hop_length=hop_length).ravel()\n",
    "\n",
    "    mfcc = librosa.feature.mfcc(y=y, n_fft=n_fft, hop_length=hop_length, n_mfcc=13)\n",
    "\n",
    "    for index, v_mfcc in enumerate(mfcc):\n",
    "        features['mfcc_{}'.format(index)] = v_mfcc.ravel()\n",
    "\n",
    "    def get_moments(descriptors):\n",
    "        result = {}\n",
    "\n",
    "        for k, v in descriptors.items():\n",
    "            result['{}_max'.format(k)] = np.max(v)\n",
    "            result['{}_min'.format(k)] = np.min(v)\n",
    "            result['{}_mean'.format(k)] = np.mean(v)\n",
    "            result['{}_std'.format(k)] = np.std(v)\n",
    "            result['{}_kurtosis'.format(k)] = kurtosis(v)\n",
    "            result['{}_skew'.format(k)] = skew(v)\n",
    "\n",
    "        return result\n",
    "\n",
    "    additional_features = get_moments(features)\n",
    "    additional_features['tempo'] = librosa.feature.tempo(y=y, sr=sr)[0]\n",
    "\n",
    "    return additional_features"
   ]
  },
  {
   "cell_type": "markdown",
   "id": "fe6a836a",
   "metadata": {},
   "source": [
    "Diretório onde estão as músicas a serem testadas:"
   ]
  },
  {
   "cell_type": "code",
   "execution_count": null,
   "id": "fe6d83f5",
   "metadata": {},
   "outputs": [],
   "source": [
    "music_directory = 'music'"
   ]
  },
  {
   "cell_type": "markdown",
   "id": "eba0dae4",
   "metadata": {},
   "source": [
    "Obtendo os gêneros presentes no diretório:"
   ]
  },
  {
   "cell_type": "code",
   "execution_count": null,
   "id": "13fc7c02",
   "metadata": {},
   "outputs": [],
   "source": [
    "music_genres = os.listdir(music_directory)"
   ]
  },
  {
   "cell_type": "markdown",
   "id": "56779d49",
   "metadata": {},
   "source": [
    "Carregando todos os modelos para testá-los:"
   ]
  },
  {
   "cell_type": "code",
   "execution_count": null,
   "id": "1817791d",
   "metadata": {},
   "outputs": [],
   "source": [
    "pipe_lr = load('./models/pipe_lr.joblib')"
   ]
  },
  {
   "cell_type": "code",
   "execution_count": null,
   "id": "6e4424b1",
   "metadata": {},
   "outputs": [],
   "source": [
    "pipe_dt = load('./models/pipe_dt.joblib')"
   ]
  },
  {
   "cell_type": "code",
   "execution_count": null,
   "id": "beb4116b",
   "metadata": {},
   "outputs": [],
   "source": [
    "pipe_rf = load('./models/pipe_rf.joblib')"
   ]
  },
  {
   "cell_type": "code",
   "execution_count": null,
   "id": "40f8d2cf",
   "metadata": {},
   "outputs": [],
   "source": [
    "pipe_svm = load('./models/pipe_svm.joblib')"
   ]
  },
  {
   "cell_type": "code",
   "execution_count": null,
   "id": "e4f0424b",
   "metadata": {},
   "outputs": [],
   "source": [
    "pipe_knn = load('./models/pipe_knn.joblib')"
   ]
  },
  {
   "cell_type": "code",
   "execution_count": null,
   "id": "5b12d36f",
   "metadata": {},
   "outputs": [],
   "source": [
    "pipe_nb = load('./models/pipe_nb.joblib')"
   ]
  },
  {
   "cell_type": "markdown",
   "id": "cab6ac24",
   "metadata": {},
   "source": [
    "A função **_test_model_** recebe um pipeline de modelo, um diretório contendo músicas e uma lista de gêneros musicais. Ela realiza predições das músicas de cada gênero utilizando o modelo fornecido e imprime os resultados das predições. Durante a execução, são ignorados os avisos gerados."
   ]
  },
  {
   "cell_type": "code",
   "execution_count": null,
   "id": "8a04ab15",
   "metadata": {},
   "outputs": [],
   "source": [
    "def test_model(pipe, directory, genres):\n",
    "    with warnings.catch_warnings():\n",
    "        warnings.simplefilter('ignore')\n",
    "\n",
    "        results = []\n",
    "\n",
    "        for genre in genres:\n",
    "            print(f'Realizando predições de músicas de {genre}...')\n",
    "\n",
    "            genre_directory = os.path.join(directory, genre)\n",
    "            genre_music_files = os.listdir(genre_directory)\n",
    "\n",
    "            for music in genre_music_files:\n",
    "                signal, sr = librosa.load(os.path.join(genre_directory, music))\n",
    "                features = get_features(signal, sr)\n",
    "                song = pd.DataFrame([features])\n",
    "\n",
    "                pred = pipe.predict(song)[0]\n",
    "\n",
    "                results.append((genre, music, pred))\n",
    "\n",
    "        for (genre, music, pred) in results:\n",
    "            print(f'Gênero {genre}: {music} foi predito como música de {pred}')"
   ]
  }
 ],
 "metadata": {
  "kernelspec": {
   "display_name": "Python 3 (ipykernel)",
   "language": "python",
   "name": "python3"
  },
  "language_info": {
   "codemirror_mode": {
    "name": "ipython",
    "version": 3
   },
   "file_extension": ".py",
   "mimetype": "text/x-python",
   "name": "python",
   "nbconvert_exporter": "python",
   "pygments_lexer": "ipython3",
   "version": "3.9.11"
  }
 },
 "nbformat": 4,
 "nbformat_minor": 5
}
