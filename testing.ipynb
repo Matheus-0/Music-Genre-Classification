{
 "cells": [
  {
   "cell_type": "markdown",
   "id": "df0f20b3",
   "metadata": {},
   "source": [
    "## Instituto Federal da Paraíba\n",
    "## Disciplina: Mineração de Dados\n",
    "## Professor: Paulo Ribeiro\n",
    "## Alunos: Filipe Salomão, Hércules de Sousa e Matheus Alves\n",
    "##\n",
    "## Projeto: Classificação de Gêneros Musicais"
   ]
  },
  {
   "cell_type": "markdown",
   "id": "996881a1",
   "metadata": {},
   "source": [
    "Importanto bibliotecas necessárias:"
   ]
  },
  {
   "cell_type": "code",
   "execution_count": 1,
   "id": "6badb131",
   "metadata": {},
   "outputs": [],
   "source": [
    "import librosa\n",
    "import numpy as np\n",
    "import os\n",
    "import pandas as pd\n",
    "from joblib import load\n",
    "from scipy.stats import kurtosis\n",
    "from scipy.stats import skew\n",
    "import warnings"
   ]
  },
  {
   "cell_type": "markdown",
   "id": "4007c9f9",
   "metadata": {},
   "source": [
    "Reutilizando a função **_get_features_**:"
   ]
  },
  {
   "cell_type": "code",
   "execution_count": 2,
   "id": "6e72398b",
   "metadata": {},
   "outputs": [],
   "source": [
    "def get_features(y, sr, n_fft=1024, hop_length=512):\n",
    "    features = {}\n",
    "\n",
    "    features['spectral_centroid'] = librosa.feature.spectral_centroid(y=y, sr=sr, n_fft=n_fft, hop_length=hop_length).ravel()\n",
    "    features['spectral_rolloff'] = librosa.feature.spectral_rolloff(y=y, sr=sr, n_fft=n_fft, hop_length=hop_length).ravel()\n",
    "    features['zero_crossing_rate'] = librosa.feature.zero_crossing_rate(y, frame_length=n_fft, hop_length=hop_length).ravel()\n",
    "    features['rms'] = librosa.feature.rms(y=y, frame_length=n_fft, hop_length=hop_length).ravel()\n",
    "    features['onset_strength'] = librosa.onset.onset_strength(y=y, sr=sr).ravel()\n",
    "    features['spectral_contrast'] = librosa.feature.spectral_contrast(y=y, sr=sr).ravel()\n",
    "    features['spectral_bandwidth'] = librosa.feature.spectral_bandwidth(y=y, sr=sr, n_fft=n_fft, hop_length=hop_length).ravel()\n",
    "    features['spectral_flatness'] = librosa.feature.spectral_flatness(y=y, n_fft=n_fft, hop_length=hop_length).ravel()\n",
    "\n",
    "    mfcc = librosa.feature.mfcc(y=y, n_fft=n_fft, hop_length=hop_length, n_mfcc=13)\n",
    "\n",
    "    for index, v_mfcc in enumerate(mfcc):\n",
    "        features['mfcc_{}'.format(index)] = v_mfcc.ravel()\n",
    "\n",
    "    def get_moments(descriptors):\n",
    "        result = {}\n",
    "\n",
    "        for k, v in descriptors.items():\n",
    "            result['{}_max'.format(k)] = np.max(v)\n",
    "            result['{}_min'.format(k)] = np.min(v)\n",
    "            result['{}_mean'.format(k)] = np.mean(v)\n",
    "            result['{}_std'.format(k)] = np.std(v)\n",
    "            result['{}_kurtosis'.format(k)] = kurtosis(v)\n",
    "            result['{}_skew'.format(k)] = skew(v)\n",
    "\n",
    "        return result\n",
    "\n",
    "    additional_features = get_moments(features)\n",
    "    additional_features['tempo'] = librosa.feature.tempo(y=y, sr=sr)[0]\n",
    "\n",
    "    return additional_features"
   ]
  },
  {
   "cell_type": "markdown",
   "id": "fe6a836a",
   "metadata": {},
   "source": [
    "Diretório onde estão as músicas a serem testadas:"
   ]
  },
  {
   "cell_type": "code",
   "execution_count": 3,
   "id": "fe6d83f5",
   "metadata": {},
   "outputs": [],
   "source": [
    "music_directory = 'music'"
   ]
  },
  {
   "cell_type": "markdown",
   "id": "56779d49",
   "metadata": {},
   "source": [
    "Carregando todos os modelos para testá-los:"
   ]
  },
  {
   "cell_type": "code",
   "execution_count": 4,
   "id": "1817791d",
   "metadata": {},
   "outputs": [],
   "source": [
    "pipe_lr = load('./models/pipe_lr.joblib')"
   ]
  },
  {
   "cell_type": "code",
   "execution_count": 5,
   "id": "6e4424b1",
   "metadata": {},
   "outputs": [],
   "source": [
    "pipe_dt = load('./models/pipe_dt.joblib')"
   ]
  },
  {
   "cell_type": "code",
   "execution_count": 6,
   "id": "beb4116b",
   "metadata": {},
   "outputs": [],
   "source": [
    "pipe_rf = load('./models/pipe_rf.joblib')"
   ]
  },
  {
   "cell_type": "code",
   "execution_count": 7,
   "id": "40f8d2cf",
   "metadata": {},
   "outputs": [],
   "source": [
    "pipe_svm = load('./models/pipe_svm.joblib')"
   ]
  },
  {
   "cell_type": "code",
   "execution_count": 8,
   "id": "e4f0424b",
   "metadata": {},
   "outputs": [],
   "source": [
    "pipe_knn = load('./models/pipe_knn.joblib')"
   ]
  },
  {
   "cell_type": "code",
   "execution_count": 9,
   "id": "5b12d36f",
   "metadata": {},
   "outputs": [],
   "source": [
    "pipe_nb = load('./models/pipe_nb.joblib')"
   ]
  },
  {
   "cell_type": "markdown",
   "id": "cab6ac24",
   "metadata": {},
   "source": [
    "A função **_test_model_** recebe um pipeline de modelo, um diretório contendo músicas e uma lista de gêneros musicais. Ela realiza predições das músicas de cada gênero utilizando o modelo fornecido e imprime os resultados das predições. Durante a execução, são ignorados os avisos gerados."
   ]
  },
  {
   "cell_type": "code",
   "execution_count": 10,
   "id": "8a04ab15",
   "metadata": {},
   "outputs": [],
   "source": [
    "def test_model(pipe, directory):\n",
    "    with warnings.catch_warnings():\n",
    "        warnings.simplefilter('ignore')\n",
    "\n",
    "        results = {}\n",
    "\n",
    "        genres = os.listdir(directory)\n",
    "\n",
    "        for genre in genres:\n",
    "            genre_results = []\n",
    "\n",
    "            print(f'Realizando predições de músicas de {genre}...\\n')\n",
    "\n",
    "            genre_directory = os.path.join(directory, genre)\n",
    "            genre_music_files = os.listdir(genre_directory)\n",
    "\n",
    "            for music in genre_music_files:\n",
    "                signal, sr = librosa.load(os.path.join(genre_directory, music))\n",
    "                features = get_features(signal, sr)\n",
    "                song = pd.DataFrame([features])\n",
    "\n",
    "                pred = pipe.predict(song)[0]\n",
    "\n",
    "                genre_results.append((genre, music, pred))\n",
    "\n",
    "                print(f'Gênero {genre}: {music} foi predito como música de {pred}')\n",
    "\n",
    "            results[genre] = genre_results\n",
    "            \n",
    "            print()"
   ]
  },
  {
   "cell_type": "code",
   "execution_count": 11,
   "id": "5794a9ab",
   "metadata": {
    "scrolled": false
   },
   "outputs": [
    {
     "name": "stdout",
     "output_type": "stream",
     "text": [
      "Realizando predições de músicas de forró...\n",
      "\n",
      "\n",
      "Realizando predições de músicas de funk...\n",
      "\n",
      "\n",
      "Realizando predições de músicas de jazz...\n",
      "\n",
      "\n",
      "Realizando predições de músicas de rap brasileiro...\n",
      "\n",
      "\n",
      "Realizando predições de músicas de rap internacional...\n",
      "\n",
      "\n",
      "Realizando predições de músicas de rock brasileiro...\n",
      "\n",
      "Gênero rock brasileiro: CPM 22 - Um Minuto Para O Fim Do Mundo.mp3 foi predito como música de rock\n",
      "Gênero rock brasileiro: Engenheiros do Hawaii - Até O Fim.mp3 foi predito como música de rock\n",
      "Gênero rock brasileiro: NX Zero - Além De Mim.mp3 foi predito como música de forró\n",
      "Gênero rock brasileiro: Pitty - Máscara.mp3 foi predito como música de rock\n",
      "Gênero rock brasileiro: Tihuana - Tropa De Elite.mp3 foi predito como música de rap\n",
      "\n",
      "Realizando predições de músicas de rock internacional...\n",
      "\n",
      "\n",
      "Realizando predições de músicas de samba...\n",
      "\n",
      "\n",
      "Realizando predições de músicas de sertanejo...\n",
      "\n",
      "\n"
     ]
    }
   ],
   "source": [
    "test_model(pipe_lr, music_directory)"
   ]
  },
  {
   "cell_type": "code",
   "execution_count": 12,
   "id": "ffe7784d",
   "metadata": {},
   "outputs": [
    {
     "name": "stdout",
     "output_type": "stream",
     "text": [
      "Realizando predições de músicas de forró...\n",
      "\n",
      "\n",
      "Realizando predições de músicas de funk...\n",
      "\n",
      "\n",
      "Realizando predições de músicas de jazz...\n",
      "\n",
      "\n",
      "Realizando predições de músicas de rap brasileiro...\n",
      "\n",
      "\n",
      "Realizando predições de músicas de rap internacional...\n",
      "\n",
      "\n",
      "Realizando predições de músicas de rock brasileiro...\n",
      "\n",
      "Gênero rock brasileiro: CPM 22 - Um Minuto Para O Fim Do Mundo.mp3 foi predito como música de rock\n",
      "Gênero rock brasileiro: Engenheiros do Hawaii - Até O Fim.mp3 foi predito como música de rock\n",
      "Gênero rock brasileiro: NX Zero - Além De Mim.mp3 foi predito como música de rock\n",
      "Gênero rock brasileiro: Pitty - Máscara.mp3 foi predito como música de rock\n",
      "Gênero rock brasileiro: Tihuana - Tropa De Elite.mp3 foi predito como música de rap\n",
      "\n",
      "Realizando predições de músicas de rock internacional...\n",
      "\n",
      "\n",
      "Realizando predições de músicas de samba...\n",
      "\n",
      "\n",
      "Realizando predições de músicas de sertanejo...\n",
      "\n",
      "\n"
     ]
    }
   ],
   "source": [
    "test_model(pipe_dt, music_directory)"
   ]
  },
  {
   "cell_type": "code",
   "execution_count": 13,
   "id": "d7a77368",
   "metadata": {},
   "outputs": [
    {
     "name": "stdout",
     "output_type": "stream",
     "text": [
      "Realizando predições de músicas de forró...\n",
      "\n",
      "\n",
      "Realizando predições de músicas de funk...\n",
      "\n",
      "\n",
      "Realizando predições de músicas de jazz...\n",
      "\n",
      "\n",
      "Realizando predições de músicas de rap brasileiro...\n",
      "\n",
      "\n",
      "Realizando predições de músicas de rap internacional...\n",
      "\n",
      "\n",
      "Realizando predições de músicas de rock brasileiro...\n",
      "\n",
      "Gênero rock brasileiro: CPM 22 - Um Minuto Para O Fim Do Mundo.mp3 foi predito como música de rock\n",
      "Gênero rock brasileiro: Engenheiros do Hawaii - Até O Fim.mp3 foi predito como música de forró\n",
      "Gênero rock brasileiro: NX Zero - Além De Mim.mp3 foi predito como música de rock\n",
      "Gênero rock brasileiro: Pitty - Máscara.mp3 foi predito como música de rock\n",
      "Gênero rock brasileiro: Tihuana - Tropa De Elite.mp3 foi predito como música de rock\n",
      "\n",
      "Realizando predições de músicas de rock internacional...\n",
      "\n",
      "\n",
      "Realizando predições de músicas de samba...\n",
      "\n",
      "\n",
      "Realizando predições de músicas de sertanejo...\n",
      "\n",
      "\n"
     ]
    }
   ],
   "source": [
    "test_model(pipe_rf, music_directory)"
   ]
  },
  {
   "cell_type": "code",
   "execution_count": 14,
   "id": "54b4d806",
   "metadata": {
    "scrolled": false
   },
   "outputs": [
    {
     "name": "stdout",
     "output_type": "stream",
     "text": [
      "Realizando predições de músicas de forró...\n",
      "\n",
      "\n",
      "Realizando predições de músicas de funk...\n",
      "\n",
      "\n",
      "Realizando predições de músicas de jazz...\n",
      "\n",
      "\n",
      "Realizando predições de músicas de rap brasileiro...\n",
      "\n",
      "\n",
      "Realizando predições de músicas de rap internacional...\n",
      "\n",
      "\n",
      "Realizando predições de músicas de rock brasileiro...\n",
      "\n",
      "Gênero rock brasileiro: CPM 22 - Um Minuto Para O Fim Do Mundo.mp3 foi predito como música de rock\n",
      "Gênero rock brasileiro: Engenheiros do Hawaii - Até O Fim.mp3 foi predito como música de rock\n",
      "Gênero rock brasileiro: NX Zero - Além De Mim.mp3 foi predito como música de rock\n",
      "Gênero rock brasileiro: Pitty - Máscara.mp3 foi predito como música de rock\n",
      "Gênero rock brasileiro: Tihuana - Tropa De Elite.mp3 foi predito como música de rap\n",
      "\n",
      "Realizando predições de músicas de rock internacional...\n",
      "\n",
      "\n",
      "Realizando predições de músicas de samba...\n",
      "\n",
      "\n",
      "Realizando predições de músicas de sertanejo...\n",
      "\n",
      "\n"
     ]
    }
   ],
   "source": [
    "test_model(pipe_svm, music_directory)"
   ]
  },
  {
   "cell_type": "code",
   "execution_count": 15,
   "id": "a4eb8462",
   "metadata": {},
   "outputs": [
    {
     "name": "stdout",
     "output_type": "stream",
     "text": [
      "Realizando predições de músicas de forró...\n",
      "\n",
      "\n",
      "Realizando predições de músicas de funk...\n",
      "\n",
      "\n",
      "Realizando predições de músicas de jazz...\n",
      "\n",
      "\n",
      "Realizando predições de músicas de rap brasileiro...\n",
      "\n",
      "\n",
      "Realizando predições de músicas de rap internacional...\n",
      "\n",
      "\n",
      "Realizando predições de músicas de rock brasileiro...\n",
      "\n",
      "Gênero rock brasileiro: CPM 22 - Um Minuto Para O Fim Do Mundo.mp3 foi predito como música de rock\n",
      "Gênero rock brasileiro: Engenheiros do Hawaii - Até O Fim.mp3 foi predito como música de rap\n",
      "Gênero rock brasileiro: NX Zero - Além De Mim.mp3 foi predito como música de rock\n",
      "Gênero rock brasileiro: Pitty - Máscara.mp3 foi predito como música de forró\n",
      "Gênero rock brasileiro: Tihuana - Tropa De Elite.mp3 foi predito como música de rap\n",
      "\n",
      "Realizando predições de músicas de rock internacional...\n",
      "\n",
      "\n",
      "Realizando predições de músicas de samba...\n",
      "\n",
      "\n",
      "Realizando predições de músicas de sertanejo...\n",
      "\n",
      "\n"
     ]
    }
   ],
   "source": [
    "test_model(pipe_knn, music_directory)"
   ]
  },
  {
   "cell_type": "code",
   "execution_count": 16,
   "id": "6bdebed1",
   "metadata": {},
   "outputs": [
    {
     "name": "stdout",
     "output_type": "stream",
     "text": [
      "Realizando predições de músicas de forró...\n",
      "\n",
      "\n",
      "Realizando predições de músicas de funk...\n",
      "\n",
      "\n",
      "Realizando predições de músicas de jazz...\n",
      "\n",
      "\n",
      "Realizando predições de músicas de rap brasileiro...\n",
      "\n",
      "\n",
      "Realizando predições de músicas de rap internacional...\n",
      "\n",
      "\n",
      "Realizando predições de músicas de rock brasileiro...\n",
      "\n",
      "Gênero rock brasileiro: CPM 22 - Um Minuto Para O Fim Do Mundo.mp3 foi predito como música de rock\n",
      "Gênero rock brasileiro: Engenheiros do Hawaii - Até O Fim.mp3 foi predito como música de rap\n",
      "Gênero rock brasileiro: NX Zero - Além De Mim.mp3 foi predito como música de rock\n",
      "Gênero rock brasileiro: Pitty - Máscara.mp3 foi predito como música de forró\n",
      "Gênero rock brasileiro: Tihuana - Tropa De Elite.mp3 foi predito como música de rap\n",
      "\n",
      "Realizando predições de músicas de rock internacional...\n",
      "\n",
      "\n",
      "Realizando predições de músicas de samba...\n",
      "\n",
      "\n",
      "Realizando predições de músicas de sertanejo...\n",
      "\n",
      "\n"
     ]
    }
   ],
   "source": [
    "test_model(pipe_nb, music_directory)"
   ]
  }
 ],
 "metadata": {
  "kernelspec": {
   "display_name": "Python 3 (ipykernel)",
   "language": "python",
   "name": "python3"
  },
  "language_info": {
   "codemirror_mode": {
    "name": "ipython",
    "version": 3
   },
   "file_extension": ".py",
   "mimetype": "text/x-python",
   "name": "python",
   "nbconvert_exporter": "python",
   "pygments_lexer": "ipython3",
   "version": "3.9.11"
  }
 },
 "nbformat": 4,
 "nbformat_minor": 5
}
